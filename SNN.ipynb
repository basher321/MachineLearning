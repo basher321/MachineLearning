{
  "nbformat": 4,
  "nbformat_minor": 0,
  "metadata": {
    "colab": {
      "provenance": [],
      "authorship_tag": "ABX9TyMWeH8ro/VoXVlzHwm6/Q+i",
      "include_colab_link": true
    },
    "kernelspec": {
      "name": "python3",
      "display_name": "Python 3"
    },
    "language_info": {
      "name": "python"
    }
  },
  "cells": [
    {
      "cell_type": "markdown",
      "metadata": {
        "id": "view-in-github",
        "colab_type": "text"
      },
      "source": [
        "<a href=\"https://colab.research.google.com/github/basher321/MachineLearning/blob/main/SNN.ipynb\" target=\"_parent\"><img src=\"https://colab.research.google.com/assets/colab-badge.svg\" alt=\"Open In Colab\"/></a>"
      ]
    },
    {
      "cell_type": "code",
      "execution_count": 11,
      "metadata": {
        "id": "iavq8l95oW41"
      },
      "outputs": [],
      "source": [
        "import tensorflow as tf\n"
      ]
    },
    {
      "cell_type": "code",
      "source": [
        "\n",
        "def initialize(input_dim: int, hidden: int, output: int):\n",
        "  w1= tf.random.normal([hidden, input_dim], dtype=tf.float64 )\n",
        "  b1= tf.zeros([hidden, 1], dtype= tf.float64)\n",
        "  w2= tf.random.normal([output,hidden], dtype= tf.float64)\n",
        "  b2= tf.zeros([output,1], dtype=tf.float64)\n",
        "  return {\n",
        "      'w1':w1, 'b1':b1, 'w2':w2, 'b2': b2\n",
        "  }"
      ],
      "metadata": {
        "id": "d4BShw5YEPpp"
      },
      "execution_count": 12,
      "outputs": []
    }
  ]
}