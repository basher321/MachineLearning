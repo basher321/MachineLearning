{
  "nbformat": 4,
  "nbformat_minor": 0,
  "metadata": {
    "colab": {
      "provenance": [],
      "authorship_tag": "ABX9TyP1WlPuhUwj6282ZFmLhJhb",
      "include_colab_link": true
    },
    "kernelspec": {
      "name": "python3",
      "display_name": "Python 3"
    },
    "language_info": {
      "name": "python"
    }
  },
  "cells": [
    {
      "cell_type": "markdown",
      "metadata": {
        "id": "view-in-github",
        "colab_type": "text"
      },
      "source": [
        "<a href=\"https://colab.research.google.com/github/basher321/MachineLearning/blob/main/SNN.ipynb\" target=\"_parent\"><img src=\"https://colab.research.google.com/assets/colab-badge.svg\" alt=\"Open In Colab\"/></a>"
      ]
    },
    {
      "cell_type": "code",
      "execution_count": 10,
      "metadata": {
        "id": "iavq8l95oW41"
      },
      "outputs": [],
      "source": [
        "import tensorflow as tf\n"
      ]
    },
    {
      "cell_type": "code",
      "source": [
        "\n",
        "def initialize(input_dim: int, hidden: int, output: int):\n",
        "  w1= tf.random.normal([hidden, input_dim], dtype=tf.float64 )\n",
        "  b1= tf.zeros([hidden, 1], dtype= tf.float64)\n",
        "  w2= tf.random.normal([output,hidden], dtype= tf.float64)\n",
        "  b2= tf.zeros([output,1], dtype=tf.float64)\n",
        "  return {\n",
        "      'w1':w1, 'b1':b1, 'w2':w2, 'b2': b2\n",
        "  }"
      ],
      "metadata": {
        "id": "d4BShw5YEPpp"
      },
      "execution_count": 11,
      "outputs": []
    },
    {
      "cell_type": "code",
      "source": [
        "x = tf.Variable([[2,3,4,5,6],\n",
        "                 [5,6,4,9,10],\n",
        "                 [8,9,4,6,3]], dtype=tf.float64)\n",
        "y = tf.Variable([[3,4,5,6,4]], dtype=tf.float64)"
      ],
      "metadata": {
        "id": "nqx8dzAyJbv8"
      },
      "execution_count": 12,
      "outputs": []
    },
    {
      "cell_type": "code",
      "source": [
        "def forward_prop(params : dict, x: tf.Tensor):\n",
        "  w1,b1,w2,b2 = params.values()\n",
        "  z1 = tf.tensordot(w1,x, axes=1)+b1\n",
        "  a1= tf.nn.tanh(z1)\n",
        "  z2= tf.tensordot(w2,a1, axes=1) +2\n",
        "  a2= tf.nn.sigmoid(z2)\n",
        "  state ={\n",
        "      'z1':z1, 'a1':a1,'z2':z2,'a2':a2\n",
        "  }\n",
        "  return a2, state"
      ],
      "metadata": {
        "id": "niiXtM6mLrIK"
      },
      "execution_count": 13,
      "outputs": []
    },
    {
      "cell_type": "code",
      "source": [
        "\n",
        "def back_prop(param: dict, state: dict, x: tf.Tensor, y: tf.Tensor):\n",
        "  w1,b1,w2,b2 = param.values()\n",
        "  z1,a1,z2,a2= state.values()\n",
        "  m= y.shape[1]\n",
        "  dz2= a2-y\n",
        "  dw2= (1/m)*  tf.tensordot(dz2, tf.transpose(a1))\n",
        "  db2 = (1/m)* tf.reduce_sum(dz2, axis=1, keepdims= True)\n",
        "  dz1= tf.tensordot(tf.transpose(w2, dz2, axes=1 )) *(1 - tf.pow(a2,2))\n",
        "  dw1= (1/m)* tf.tensordot(dz1, tf.transpose(x), axes=1)\n",
        "  db1 = (1/m)* tf.reduce_sum(dz1, axis=1, keepdims= True)\n",
        "  grades= {\n",
        "      'dw1':dw1, 'db1':db1, 'dw2': dw2, 'db2':db2 \n",
        "      \n",
        "  }\n",
        "  return grades"
      ],
      "metadata": {
        "id": "Gnt1aodwNN13"
      },
      "execution_count": 14,
      "outputs": []
    },
    {
      "cell_type": "code",
      "source": [
        "def update(param: dict, grades: dict, alpha: float= 0.01):\n",
        "  w1,b1,w2,b2 = param.values()\n",
        "  dw1,db1,dw2,db2= grades.value()\n",
        "  w1= w1- (alpha* dw1)\n",
        "  b1 = b1 - (alpha * db1)\n",
        "  w2= w2- (alpha* dw2)\n",
        "  b2= b2 - (alpha *db2)\n",
        "  return dict(w1=w1,b1=b1,w2=w2,b2=b2)\n"
      ],
      "metadata": {
        "id": "P7EvD36o_xGW"
      },
      "execution_count": 15,
      "outputs": []
    }
  ]
}