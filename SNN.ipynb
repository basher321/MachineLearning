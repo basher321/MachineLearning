{
  "nbformat": 4,
  "nbformat_minor": 0,
  "metadata": {
    "colab": {
      "provenance": [],
      "authorship_tag": "ABX9TyNRWL24rlMiP0mChdqR8aQN",
      "include_colab_link": true
    },
    "kernelspec": {
      "name": "python3",
      "display_name": "Python 3"
    },
    "language_info": {
      "name": "python"
    }
  },
  "cells": [
    {
      "cell_type": "markdown",
      "metadata": {
        "id": "view-in-github",
        "colab_type": "text"
      },
      "source": [
        "<a href=\"https://colab.research.google.com/github/basher321/MachineLearning/blob/main/SNN.ipynb\" target=\"_parent\"><img src=\"https://colab.research.google.com/assets/colab-badge.svg\" alt=\"Open In Colab\"/></a>"
      ]
    },
    {
      "cell_type": "code",
      "execution_count": 1,
      "metadata": {
        "id": "iavq8l95oW41"
      },
      "outputs": [],
      "source": [
        "import tensorflow as tf\n"
      ]
    },
    {
      "cell_type": "code",
      "source": [
        "\n",
        "def initialize(input_dim: int, hidden: int, output: int):\n",
        "  w1= tf.random.normal([hidden, input_dim], dtype=tf.float64 )\n",
        "  b1= tf.zeros([hidden, 1], dtype= tf.float64)\n",
        "  w2= tf.random.normal([output,hidden], dtype= tf.float64)\n",
        "  b2= tf.zeros([output,1], dtype=tf.float64)\n",
        "  return {\n",
        "      'w1':w1, 'b1':b1, 'w2':w2, 'b2': b2\n",
        "  }"
      ],
      "metadata": {
        "id": "d4BShw5YEPpp"
      },
      "execution_count": 2,
      "outputs": []
    },
    {
      "cell_type": "code",
      "source": [
        "params= initialize(3,2,1)\n",
        "params.values()"
      ],
      "metadata": {
        "id": "nqx8dzAyJbv8"
      },
      "execution_count": null,
      "outputs": []
    },
    {
      "cell_type": "code",
      "source": [
        "def forward_prop(params : dict, x: tf.Tensor):\n",
        "  w1,b1,w2,b2 = params.values()\n",
        "  z1 = tf.tensordot(w1,x, axes=1)\n",
        "  a1= tf.nn.tanh(z1)\n",
        "  z2= tf.tensordot(w2,a1, axes=1)\n",
        "  a2= tf.nn.sigmoid(z2)\n",
        "  state ={\n",
        "      'z1':z1, 'a1':a1,'z2':z2,'a2':a2\n",
        "  }\n",
        "  return a2, state"
      ],
      "metadata": {
        "id": "niiXtM6mLrIK"
      },
      "execution_count": null,
      "outputs": []
    }
  ]
}