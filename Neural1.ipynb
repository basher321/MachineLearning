{
  "nbformat": 4,
  "nbformat_minor": 0,
  "metadata": {
    "colab": {
      "provenance": [],
      "authorship_tag": "ABX9TyNRTBr5DyD5638UrKIRmNkg",
      "include_colab_link": true
    },
    "kernelspec": {
      "name": "python3",
      "display_name": "Python 3"
    },
    "language_info": {
      "name": "python"
    }
  },
  "cells": [
    {
      "cell_type": "markdown",
      "metadata": {
        "id": "view-in-github",
        "colab_type": "text"
      },
      "source": [
        "<a href=\"https://colab.research.google.com/github/basher321/MachineLearning/blob/main/Neural1.ipynb\" target=\"_parent\"><img src=\"https://colab.research.google.com/assets/colab-badge.svg\" alt=\"Open In Colab\"/></a>"
      ]
    },
    {
      "cell_type": "code",
      "execution_count": 1,
      "metadata": {
        "id": "MH_JDcQ8QFQz"
      },
      "outputs": [],
      "source": [
        "import tensorflow as tf\n",
        "import numpy as np"
      ]
    },
    {
      "cell_type": "code",
      "source": [
        "Identical = tf.eye(3,3, dtype= tf.float64)\n",
        "fill = tf.fill([3,3],9)\n",
        "linespace = tf.linspace(100,111, 10)\n",
        "ones = tf.ones([3,3])\n",
        "zeros= tf.zeros([3,4])\n",
        "Identical, fill, linespace, ones, zeros\n"
      ],
      "metadata": {
        "id": "_06_Idb0l-M9"
      },
      "execution_count": null,
      "outputs": []
    },
    {
      "cell_type": "code",
      "source": [
        "def initializer ( ) -> tuple:\n",
        "  w= tf.Variable([3,4,5], dtype= tf.float64)\n",
        "  b= 1.0\n",
        "  return w, b\n"
      ],
      "metadata": {
        "id": "eCrY19pei7n6"
      },
      "execution_count": 16,
      "outputs": []
    },
    {
      "cell_type": "code",
      "source": [
        "w, b = initializer()\n",
        "x = tf.Variable([3,4,5], dtype=tf.float64)\n"
      ],
      "metadata": {
        "id": "uRjunrQncy9n"
      },
      "execution_count": 17,
      "outputs": []
    },
    {
      "cell_type": "code",
      "source": [
        "def forward( w : tf.Tensor, b : tf.float64, x : tf.Tensor):\n",
        " wt = tf.transpose(w)\n",
        " z= tf.tensordot(wt,x, axes=1) + b\n",
        " return z\n"
      ],
      "metadata": {
        "id": "AMTEsBRNlDuR"
      },
      "execution_count": 18,
      "outputs": []
    },
    {
      "cell_type": "code",
      "source": [
        "z1= forward(w,b, x)\n",
        "def sigmoid(z: tf.Tensor):\n",
        "  a = 1/(1+ tf.exp(-z))\n",
        "  return a\n"
      ],
      "metadata": {
        "id": "ORTk34Z4r-ku"
      },
      "execution_count": 20,
      "outputs": []
    },
    {
      "cell_type": "code",
      "source": [
        "fp = sigmoid(z1)\n",
        "fp"
      ],
      "metadata": {
        "colab": {
          "base_uri": "https://localhost:8080/"
        },
        "id": "9TuEdz9CnFfI",
        "outputId": "a73a2570-e2c6-405a-f4ef-497a4a130858"
      },
      "execution_count": 27,
      "outputs": [
        {
          "output_type": "execute_result",
          "data": {
            "text/plain": [
              "<tf.Tensor: shape=(), dtype=float32, numpy=0.7310586>"
            ]
          },
          "metadata": {},
          "execution_count": 27
        }
      ]
    }
  ]
}