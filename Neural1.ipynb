{
  "nbformat": 4,
  "nbformat_minor": 0,
  "metadata": {
    "colab": {
      "provenance": [],
      "authorship_tag": "ABX9TyPIwQGAG4Uteg9rIRRfzYNe",
      "include_colab_link": true
    },
    "kernelspec": {
      "name": "python3",
      "display_name": "Python 3"
    },
    "language_info": {
      "name": "python"
    }
  },
  "cells": [
    {
      "cell_type": "markdown",
      "metadata": {
        "id": "view-in-github",
        "colab_type": "text"
      },
      "source": [
        "<a href=\"https://colab.research.google.com/github/basher321/MachineLearning/blob/main/Neural1.ipynb\" target=\"_parent\"><img src=\"https://colab.research.google.com/assets/colab-badge.svg\" alt=\"Open In Colab\"/></a>"
      ]
    },
    {
      "cell_type": "code",
      "execution_count": 1,
      "metadata": {
        "id": "MH_JDcQ8QFQz"
      },
      "outputs": [],
      "source": [
        "import tensorflow as tf\n",
        "import numpy as np\n"
      ]
    },
    {
      "cell_type": "code",
      "source": [
        "Identical = tf.eye(3,3, dtype= tf.float64)\n",
        "fill = tf.fill([3,3],9)\n",
        "linespace = tf.linspace(100,111, 10)\n",
        "ones = tf.ones([3,3])\n",
        "zeros= tf.zeros([3,4])\n",
        "Identical, fill, linespace, ones, zeros\n"
      ],
      "metadata": {
        "id": "_06_Idb0l-M9"
      },
      "execution_count": null,
      "outputs": []
    },
    {
      "cell_type": "code",
      "source": [
        "def initialize (input_dim : int) -> tuple :\n",
        "  w = tf.zeros([input_dim,1], dtype= tf.float64)\n",
        "  b= 0.00\n",
        "  return w, b\n"
      ],
      "metadata": {
        "id": "eCrY19pei7n6"
      },
      "execution_count": 2,
      "outputs": []
    },
    {
      "cell_type": "code",
      "source": [
        "w1, b1 = initialize(3) \n",
        "w1,b1\n",
        "x1= tf.Variable([5,6,7], dtype=tf.float64)\n",
        "y1= tf.Variable([1], dtype= tf.float64)\n",
        "def forward_pro(w : tf.Tensor, b: tf.float64, x : tf.Tensor) :\n",
        "  wt = tf.transpose(w)\n",
        "  z = tf.tensordot(wt,x, axes=1) + b\n",
        "  return z\n",
        "\n"
      ],
      "metadata": {
        "id": "uRjunrQncy9n"
      },
      "execution_count": 3,
      "outputs": []
    },
    {
      "cell_type": "code",
      "source": [
        "z1= forward_pro(w1,b1,x1)\n",
        "def sigmoid_fun(z : tf.Tensor) :\n",
        "  a = 1/(1+ tf.exp(-z))\n",
        "  return a\n"
      ],
      "metadata": {
        "id": "AMTEsBRNlDuR"
      },
      "execution_count": 4,
      "outputs": []
    },
    {
      "cell_type": "code",
      "source": [
        "yhat = sigmoid_fun(1.0)\n",
        "yhat\n"
      ],
      "metadata": {
        "id": "LeLeQVqHrjye"
      },
      "execution_count": null,
      "outputs": []
    },
    {
      "cell_type": "code",
      "source": [
        "def cost_fun(y: tf.Tensor, yhat : tf.Tensor):\n",
        "   \n",
        "    sum = y* tf.math.log(y) + (1-y) * tf.math.log(y - yhat)\n",
        "    c= -1/m * sum\n",
        "\n",
        "    return c\n"
      ],
      "metadata": {
        "id": "XH6buWz-K62v"
      },
      "execution_count": null,
      "outputs": []
    }
  ]
}