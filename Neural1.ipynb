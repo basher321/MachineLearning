{
  "nbformat": 4,
  "nbformat_minor": 0,
  "metadata": {
    "colab": {
      "provenance": [],
      "authorship_tag": "ABX9TyM3dzr+trV3WVQ1PUGQujT7",
      "include_colab_link": true
    },
    "kernelspec": {
      "name": "python3",
      "display_name": "Python 3"
    },
    "language_info": {
      "name": "python"
    }
  },
  "cells": [
    {
      "cell_type": "markdown",
      "metadata": {
        "id": "view-in-github",
        "colab_type": "text"
      },
      "source": [
        "<a href=\"https://colab.research.google.com/github/basher321/MachineLearning/blob/main/Neural1.ipynb\" target=\"_parent\"><img src=\"https://colab.research.google.com/assets/colab-badge.svg\" alt=\"Open In Colab\"/></a>"
      ]
    },
    {
      "cell_type": "code",
      "execution_count": null,
      "metadata": {
        "id": "MH_JDcQ8QFQz"
      },
      "outputs": [],
      "source": [
        "import tensorflow as tf\n",
        "import numpy as np\n"
      ]
    },
    {
      "cell_type": "code",
      "source": [
        "Identical = tf.eye(3,3, dtype= tf.float64)\n",
        "fill = tf.fill([3,3],9)\n",
        "linespace = tf.linspace(100,111, 10)\n",
        "ones = tf.ones([3,3])\n",
        "zeros= tf.zeros([3,4])\n",
        "Identical, fill, linespace, ones, zeros\n"
      ],
      "metadata": {
        "id": "_06_Idb0l-M9"
      },
      "execution_count": null,
      "outputs": []
    },
    {
      "cell_type": "code",
      "source": [
        "def initialize (input_dim : int) -> tuple :\n",
        "  w = tf.zeros([input_dim,1], dtype= tf.float64)\n",
        "  b= 0.00\n",
        "  return w, b\n"
      ],
      "metadata": {
        "id": "eCrY19pei7n6"
      },
      "execution_count": null,
      "outputs": []
    },
    {
      "cell_type": "code",
      "source": [
        "w1, b1 = initialize(3) \n",
        "w1,b1\n",
        "x1= tf.Variable([5,6,7], dtype=tf.float64)\n",
        "y1= tf.Variable([1], dtype= tf.float64)\n",
        "def forward_pro(w : tf.Tensor, b: tf.float64, x : tf.Tensor) :\n",
        "  wt = tf.transpose(w)\n",
        "  z = tf.tensordot(wt,x, axes=1) + b\n",
        "  return z\n",
        "\n",
        "x1.shape[0]"
      ],
      "metadata": {
        "id": "uRjunrQncy9n",
        "colab": {
          "base_uri": "https://localhost:8080/"
        },
        "outputId": "c20f0f99-9641-499a-9c60-3171f8edadcd"
      },
      "execution_count": null,
      "outputs": [
        {
          "output_type": "execute_result",
          "data": {
            "text/plain": [
              "3"
            ]
          },
          "metadata": {},
          "execution_count": 10
        }
      ]
    },
    {
      "cell_type": "code",
      "source": [
        "z1= forward_pro(w1,b1,x1)\n",
        "def sigmoid_fun(z : tf.Tensor) :\n",
        "  a = 1/(1+ tf.exp(-z))\n",
        "  return a\n"
      ],
      "metadata": {
        "id": "AMTEsBRNlDuR"
      },
      "execution_count": null,
      "outputs": []
    },
    {
      "cell_type": "code",
      "source": [
        "yhat = sigmoid_fun(z1)\n",
        "yhat\n"
      ],
      "metadata": {
        "id": "LeLeQVqHrjye",
        "colab": {
          "base_uri": "https://localhost:8080/"
        },
        "outputId": "f8c1736e-ed72-4611-961a-81d8203b4464"
      },
      "execution_count": null,
      "outputs": [
        {
          "output_type": "execute_result",
          "data": {
            "text/plain": [
              "<tf.Tensor: shape=(1,), dtype=float64, numpy=array([0.5])>"
            ]
          },
          "metadata": {},
          "execution_count": 6
        }
      ]
    },
    {
      "cell_type": "code",
      "source": [
        "def cost_fun(y: tf.Tensor, yhat : tf.Tensor):\n",
        "  m= yhat.shape[0]\n",
        "  loss = tf.reduce_sum((y* tf.math.log(yhat))  + ((1-y) * tf.math.log(y-yhat)))   \n",
        "  c = (-1/m)*loss\n",
        "  return c"
      ],
      "metadata": {
        "id": "XH6buWz-K62v"
      },
      "execution_count": null,
      "outputs": []
    },
    {
      "cell_type": "code",
      "source": [
        "c1 = cost_fun(y1,yhat)\n",
        "c1"
      ],
      "metadata": {
        "id": "UnEEuu49aBHN"
      },
      "execution_count": null,
      "outputs": []
    },
    {
      "cell_type": "code",
      "source": [
        "def propagation(x: tf.Tensor, y : tf.Tensor):\n",
        "  input_dim= x.shape[0]\n",
        "  w,b = initialize(input_dim)\n",
        "  z= forward_pro(w,b,x)\n",
        "  yhat= sigmoid_fun(z)\n",
        "  cost = cost_fun(y, yhat)\n",
        "  return cost, yhat\n"
      ],
      "metadata": {
        "id": "0AN6gR9re2tS"
      },
      "execution_count": null,
      "outputs": []
    },
    {
      "cell_type": "code",
      "source": [
        "x2= tf.Variable([1,2,4,5],\n",
        "                [5,4,6,7], dtype=tf.float64)\n",
        "y2 = tf.Variable([1], dtype=tf.Tensor)\n",
        "propagation(x2, y2)"
      ],
      "metadata": {
        "id": "1Fo6q2CBlcoO"
      },
      "execution_count": null,
      "outputs": []
    },
    {
      "cell_type": "code",
      "source": [],
      "metadata": {
        "id": "S_f6q87PqkOI"
      },
      "execution_count": null,
      "outputs": []
    }
  ]
}