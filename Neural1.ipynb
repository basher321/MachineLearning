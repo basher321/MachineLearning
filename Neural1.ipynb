{
  "nbformat": 4,
  "nbformat_minor": 0,
  "metadata": {
    "colab": {
      "provenance": [],
      "authorship_tag": "ABX9TyOtQUhQ9cc6rNxBe2K2moid",
      "include_colab_link": true
    },
    "kernelspec": {
      "name": "python3",
      "display_name": "Python 3"
    },
    "language_info": {
      "name": "python"
    }
  },
  "cells": [
    {
      "cell_type": "markdown",
      "metadata": {
        "id": "view-in-github",
        "colab_type": "text"
      },
      "source": [
        "<a href=\"https://colab.research.google.com/github/basher321/MachineLearning/blob/main/Neural1.ipynb\" target=\"_parent\"><img src=\"https://colab.research.google.com/assets/colab-badge.svg\" alt=\"Open In Colab\"/></a>"
      ]
    },
    {
      "cell_type": "code",
      "execution_count": null,
      "metadata": {
        "id": "MH_JDcQ8QFQz",
        "colab": {
          "base_uri": "https://localhost:8080/",
          "height": 35
        },
        "outputId": "97b5106b-10ce-44a2-9072-81807ebcf2cf"
      },
      "outputs": [
        {
          "output_type": "execute_result",
          "data": {
            "text/plain": [
              "'2.11.0'"
            ],
            "application/vnd.google.colaboratory.intrinsic+json": {
              "type": "string"
            }
          },
          "metadata": {},
          "execution_count": 1
        }
      ],
      "source": [
        "import tensorflow as tf\n",
        "tf.__version__"
      ]
    },
    {
      "cell_type": "code",
      "source": [
        "matrix= tf.Variable([[2.0,4,5],[6,7,8],[10,7,3]], dtype= tf.float64, name='matrix')"
      ],
      "metadata": {
        "id": "o9kTUuVwbiPb"
      },
      "execution_count": null,
      "outputs": []
    },
    {
      "cell_type": "code",
      "source": [
        "Identical = tf.eye(3,3, dtype= tf.float64)\n",
        "fill = tf.fill([3,3],9)\n",
        "linespace = tf.linspace(100,111, 10)\n",
        "ones = tf.ones([3,3])\n",
        "zeros= tf.zeros([3,4])\n",
        "Identical, fill, linespace, ones, zeros\n"
      ],
      "metadata": {
        "id": "_06_Idb0l-M9"
      },
      "execution_count": null,
      "outputs": []
    }
  ]
}