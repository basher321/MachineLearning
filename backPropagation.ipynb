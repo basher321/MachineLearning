{
  "nbformat": 4,
  "nbformat_minor": 0,
  "metadata": {
    "colab": {
      "provenance": [],
      "authorship_tag": "ABX9TyNo2i1nLCLP3ENbq6Nm8/Ek",
      "include_colab_link": true
    },
    "kernelspec": {
      "name": "python3",
      "display_name": "Python 3"
    },
    "language_info": {
      "name": "python"
    }
  },
  "cells": [
    {
      "cell_type": "markdown",
      "metadata": {
        "id": "view-in-github",
        "colab_type": "text"
      },
      "source": [
        "<a href=\"https://colab.research.google.com/github/basher321/MachineLearning/blob/main/backPropagation.ipynb\" target=\"_parent\"><img src=\"https://colab.research.google.com/assets/colab-badge.svg\" alt=\"Open In Colab\"/></a>"
      ]
    },
    {
      "cell_type": "code",
      "execution_count": 1,
      "metadata": {
        "id": "2Rfg05X2qugQ"
      },
      "outputs": [],
      "source": [
        "import tensorflow as tf\n",
        "import numpy as np"
      ]
    },
    {
      "cell_type": "code",
      "source": [],
      "metadata": {
        "id": "xadhRP1guZA9"
      },
      "execution_count": null,
      "outputs": []
    },
    {
      "cell_type": "code",
      "source": [
        "def initialize(input_dim : int) -> tuple:\n",
        "  w = tf.zeros([input_dim,1], dtype=tf.float64)\n",
        "  b=0.0\n",
        "  return w,b"
      ],
      "metadata": {
        "id": "gaUixP4kNmHf"
      },
      "execution_count": 24,
      "outputs": []
    },
    {
      "cell_type": "code",
      "source": [
        "w,b = initialize(4)\n",
        "w,b"
      ],
      "metadata": {
        "id": "gJcSbn0uOLuv"
      },
      "execution_count": null,
      "outputs": []
    },
    {
      "cell_type": "code",
      "source": [
        "def forward(x: tf.Tensor, w: tf.Tensor):\n",
        "  wt= tf.transpose(w)\n",
        "  z= tf.tensordot(x,wt, axes=1)\n",
        "  return z"
      ],
      "metadata": {
        "id": "5sKHx78YDspN"
      },
      "execution_count": 27,
      "outputs": []
    },
    {
      "cell_type": "code",
      "source": [
        "forward(x)"
      ],
      "metadata": {
        "id": "5g2r78dfFub1"
      },
      "execution_count": null,
      "outputs": []
    },
    {
      "cell_type": "code",
      "source": [],
      "metadata": {
        "id": "RJ5P7JJDGVhE"
      },
      "execution_count": null,
      "outputs": []
    },
    {
      "cell_type": "code",
      "source": [
        "def backpropagation(x : tf.Tensor, yhat : tf.Tensor, y : tf.Tensor)->dict:\n",
        "  m= y.shape[1]\n",
        "  cost= yhat-y\n",
        "  dw= -(1/m)* tf.tensordot(x, tf.transpose(cost))\n",
        "  db = (1/m) * tf.reduce_sum(x, tf.transpose(cost))\n",
        "  return dw, db"
      ],
      "metadata": {
        "id": "D6SnvcVRAnkX"
      },
      "execution_count": 9,
      "outputs": []
    }
  ]
}