{
  "nbformat": 4,
  "nbformat_minor": 0,
  "metadata": {
    "colab": {
      "provenance": [],
      "authorship_tag": "ABX9TyOdaoYSO2SEeecViSAO+rSU",
      "include_colab_link": true
    },
    "kernelspec": {
      "name": "python3",
      "display_name": "Python 3"
    },
    "language_info": {
      "name": "python"
    }
  },
  "cells": [
    {
      "cell_type": "markdown",
      "metadata": {
        "id": "view-in-github",
        "colab_type": "text"
      },
      "source": [
        "<a href=\"https://colab.research.google.com/github/basher321/MachineLearning/blob/main/backPropagation.ipynb\" target=\"_parent\"><img src=\"https://colab.research.google.com/assets/colab-badge.svg\" alt=\"Open In Colab\"/></a>"
      ]
    },
    {
      "cell_type": "code",
      "execution_count": 1,
      "metadata": {
        "id": "2Rfg05X2qugQ"
      },
      "outputs": [],
      "source": [
        "import tensorflow as tf\n",
        "import numpy as np"
      ]
    },
    {
      "cell_type": "code",
      "source": [
        "def initialize(input_dim : int) -> tuple:\n",
        "  w = tf.zeros([input_dim,1], dtype=tf.float64)\n",
        "  b=0.0\n",
        "  return w,b"
      ],
      "metadata": {
        "id": "gaUixP4kNmHf"
      },
      "execution_count": 3,
      "outputs": []
    },
    {
      "cell_type": "code",
      "source": [
        "w,b = initialize(4)\n",
        "x= tf.Variable([4,5,67,7], dtype= tf.float64)\n",
        "y = tf.Variable([1], dtype=tf.float64)\n",
        "w,b,x ,y "
      ],
      "metadata": {
        "id": "gJcSbn0uOLuv",
        "colab": {
          "base_uri": "https://localhost:8080/"
        },
        "outputId": "20416e57-cda4-4114-ab82-c54ab7b0dc94"
      },
      "execution_count": 14,
      "outputs": [
        {
          "output_type": "execute_result",
          "data": {
            "text/plain": [
              "(<tf.Tensor: shape=(4, 1), dtype=float64, numpy=\n",
              " array([[0.],\n",
              "        [0.],\n",
              "        [0.],\n",
              "        [0.]])>,\n",
              " 0.0,\n",
              " <tf.Variable 'Variable:0' shape=(4,) dtype=float64, numpy=array([ 4.,  5., 67.,  7.])>,\n",
              " <tf.Variable 'Variable:0' shape=(1,) dtype=float64, numpy=array([1.])>)"
            ]
          },
          "metadata": {},
          "execution_count": 14
        }
      ]
    },
    {
      "cell_type": "code",
      "source": [
        "def forward(x: tf.Tensor, b: tf.float64, w: tf.Tensor):\n",
        "  wt= tf.transpose(w)\n",
        "  z= tf.tensordot(wt,x, axes=1) + b\n",
        "  return z"
      ],
      "metadata": {
        "id": "5sKHx78YDspN"
      },
      "execution_count": 9,
      "outputs": []
    },
    {
      "cell_type": "code",
      "source": [
        "z=forward(x,b,w)\n",
        "def sigmoid(z: tf.Tensor):\n",
        "  a = 1/(1+ tf.exp(-z))\n",
        "  return a"
      ],
      "metadata": {
        "id": "5g2r78dfFub1"
      },
      "execution_count": 11,
      "outputs": []
    },
    {
      "cell_type": "code",
      "source": [
        "yhat= sigmoid(z)\n",
        "yhat\n"
      ],
      "metadata": {
        "id": "rTHiO21OOphS"
      },
      "execution_count": null,
      "outputs": []
    },
    {
      "cell_type": "code",
      "source": [
        "def compute_cost(y : tf.Tensor, yhat : tf.Tensor):\n",
        "  m = yhat.shape[1]\n",
        "  loss = tf.reduce_sum((y * tf.math.log(yhat)) + (1-y) * (tf.math.log(1-yhat)))\n",
        "  c = (-1/m)* loss\n",
        "  return c"
      ],
      "metadata": {
        "id": "7ZGdVir8P8Bo"
      },
      "execution_count": null,
      "outputs": []
    },
    {
      "cell_type": "code",
      "source": [
        "def backpropagation(x : tf.Tensor, yhat : tf.Tensor, y : tf.Tensor)->dict:\n",
        "  m= y.shape[1]\n",
        "  cost= yhat-y\n",
        "  dw= -(1/m)* tf.tensordot(x, tf.transpose(cost))\n",
        "  db = (1/m) * tf.reduce_sum(x, tf.transpose(cost))\n",
        "  return dw, db"
      ],
      "metadata": {
        "id": "D6SnvcVRAnkX"
      },
      "execution_count": null,
      "outputs": []
    }
  ]
}