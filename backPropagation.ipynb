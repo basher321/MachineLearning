{
  "nbformat": 4,
  "nbformat_minor": 0,
  "metadata": {
    "colab": {
      "provenance": [],
      "authorship_tag": "ABX9TyMTOc40GJVsQs6tlk6v6jSR",
      "include_colab_link": true
    },
    "kernelspec": {
      "name": "python3",
      "display_name": "Python 3"
    },
    "language_info": {
      "name": "python"
    }
  },
  "cells": [
    {
      "cell_type": "markdown",
      "metadata": {
        "id": "view-in-github",
        "colab_type": "text"
      },
      "source": [
        "<a href=\"https://colab.research.google.com/github/basher321/MachineLearning/blob/main/backPropagation.ipynb\" target=\"_parent\"><img src=\"https://colab.research.google.com/assets/colab-badge.svg\" alt=\"Open In Colab\"/></a>"
      ]
    },
    {
      "cell_type": "code",
      "execution_count": 15,
      "metadata": {
        "id": "2Rfg05X2qugQ"
      },
      "outputs": [],
      "source": [
        "import tensorflow as tf\n",
        "import numpy as np"
      ]
    },
    {
      "cell_type": "code",
      "source": [
        "def initialize(input_dim : int) -> tuple:\n",
        "  w = tf.zeros([input_dim,1], dtype=tf.float64)\n",
        "  b=0.0\n",
        "  return w,b"
      ],
      "metadata": {
        "id": "gaUixP4kNmHf"
      },
      "execution_count": 16,
      "outputs": []
    },
    {
      "cell_type": "code",
      "source": [
        "w,b = initialize(3)\n",
        "x= tf.Variable([[4,5,67,7],\n",
        "                [4,5,6,7],\n",
        "                [7,8,9,4]], dtype= tf.float64)\n",
        "y = tf.Variable([[1,7,8,3]], dtype=tf.float64)\n",
        "w,b,x ,y "
      ],
      "metadata": {
        "id": "gJcSbn0uOLuv",
        "colab": {
          "base_uri": "https://localhost:8080/"
        },
        "outputId": "ac83adbc-fa59-4919-8a3a-d94504f8eb6f"
      },
      "execution_count": 31,
      "outputs": [
        {
          "output_type": "execute_result",
          "data": {
            "text/plain": [
              "(<tf.Tensor: shape=(3, 1), dtype=float64, numpy=\n",
              " array([[0.],\n",
              "        [0.],\n",
              "        [0.]])>,\n",
              " 0.0,\n",
              " <tf.Variable 'Variable:0' shape=(3, 4) dtype=float64, numpy=\n",
              " array([[ 4.,  5., 67.,  7.],\n",
              "        [ 4.,  5.,  6.,  7.],\n",
              "        [ 7.,  8.,  9.,  4.]])>,\n",
              " <tf.Variable 'Variable:0' shape=(1, 4) dtype=float64, numpy=array([[1., 7., 8., 3.]])>)"
            ]
          },
          "metadata": {},
          "execution_count": 31
        }
      ]
    },
    {
      "cell_type": "code",
      "source": [
        "def forward(x: tf.Tensor, b: tf.float64, w: tf.Tensor):\n",
        "  wt= tf.transpose(w)\n",
        "  z= tf.tensordot(wt,x, axes=1) + b\n",
        "  return z"
      ],
      "metadata": {
        "id": "5sKHx78YDspN"
      },
      "execution_count": 32,
      "outputs": []
    },
    {
      "cell_type": "code",
      "source": [
        "z=forward(x,b,w)\n",
        "def sigmoid(z: tf.Tensor):\n",
        "  a = 1/(1+ tf.exp(-z))\n",
        "  return a"
      ],
      "metadata": {
        "id": "5g2r78dfFub1"
      },
      "execution_count": 33,
      "outputs": []
    },
    {
      "cell_type": "code",
      "source": [
        "yhat= sigmoid(z)\n",
        "yhat\n"
      ],
      "metadata": {
        "id": "rTHiO21OOphS",
        "colab": {
          "base_uri": "https://localhost:8080/"
        },
        "outputId": "e481bf68-9ebd-48cb-9bf7-e0216478a13b"
      },
      "execution_count": 34,
      "outputs": [
        {
          "output_type": "execute_result",
          "data": {
            "text/plain": [
              "<tf.Tensor: shape=(1, 4), dtype=float64, numpy=array([[0.5, 0.5, 0.5, 0.5]])>"
            ]
          },
          "metadata": {},
          "execution_count": 34
        }
      ]
    },
    {
      "cell_type": "code",
      "source": [
        "def compute_cost(y : tf.Tensor, yhat : tf.Tensor):\n",
        "  m = yhat.shape[1]\n",
        "  loss = tf.reduce_sum((y * tf.math.log(yhat)) + (1-y) * (tf.math.log(1-yhat)))\n",
        "  c = (-1/m)* loss\n",
        "  return c"
      ],
      "metadata": {
        "id": "7ZGdVir8P8Bo"
      },
      "execution_count": 35,
      "outputs": []
    },
    {
      "cell_type": "code",
      "source": [
        "def forward_propagation(w : tf.Tensor, b: tf.Tensor, x: tf.Tensor, y: tf.Tensor):\n",
        "  z= forward(x,b,w)\n",
        "  yhat = sigmoid(z)\n",
        "  cost = compute_cost(y,yhat)\n",
        "  return yhat, tf.squeeze(cost)\n"
      ],
      "metadata": {
        "id": "7TPe1TtijJNZ"
      },
      "execution_count": 42,
      "outputs": []
    },
    {
      "cell_type": "code",
      "source": [
        "yhat, cost = forward_propagation(w,b,x,y)\n",
        "yhat, cost"
      ],
      "metadata": {
        "colab": {
          "base_uri": "https://localhost:8080/"
        },
        "id": "DPhywWSKlBTI",
        "outputId": "998e8cc9-17f0-4134-b03b-40c8dc2e3310"
      },
      "execution_count": 43,
      "outputs": [
        {
          "output_type": "execute_result",
          "data": {
            "text/plain": [
              "(<tf.Tensor: shape=(1, 4), dtype=float64, numpy=array([[0.5, 0.5, 0.5, 0.5]])>,\n",
              " <tf.Tensor: shape=(), dtype=float64, numpy=0.6931471805599454>)"
            ]
          },
          "metadata": {},
          "execution_count": 43
        }
      ]
    },
    {
      "cell_type": "code",
      "source": [
        "\n",
        "def backpropagation(x : tf.Tensor, yhat : tf.Tensor, y : tf.Tensor)-> dict:\n",
        "  m= y.shape[1]\n",
        "  cost= yhat-y\n",
        "  dw= (1/m)* (tf.tensordot(x, tf.transpose(cost), axes=1))\n",
        "  db = (1/m) * (tf.reduce_sum(cost))\n",
        "  return {'dw': dw, 'db':  db}"
      ],
      "metadata": {
        "id": "D6SnvcVRAnkX"
      },
      "execution_count": 44,
      "outputs": []
    },
    {
      "cell_type": "code",
      "source": [
        "  grades= backpropagation(x, yhat,y)\n",
        "  grades"
      ],
      "metadata": {
        "id": "hxs3LbddVwvs",
        "colab": {
          "base_uri": "https://localhost:8080/"
        },
        "outputId": "039b17f2-5b9b-4401-9f8e-a797337ac171"
      },
      "execution_count": 45,
      "outputs": [
        {
          "output_type": "execute_result",
          "data": {
            "text/plain": [
              "{'dw': <tf.Tensor: shape=(3, 1), dtype=float64, numpy=\n",
              " array([[-138.625],\n",
              "        [ -24.25 ],\n",
              "        [ -33.25 ]])>, 'db': <tf.Tensor: shape=(), dtype=float64, numpy=-4.25>}"
            ]
          },
          "metadata": {},
          "execution_count": 45
        }
      ]
    }
  ]
}