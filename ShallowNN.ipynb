{
  "nbformat": 4,
  "nbformat_minor": 0,
  "metadata": {
    "colab": {
      "provenance": [],
      "authorship_tag": "ABX9TyPc93E+5Q0cliTf1cgQ3jyy",
      "include_colab_link": true
    },
    "kernelspec": {
      "name": "python3",
      "display_name": "Python 3"
    },
    "language_info": {
      "name": "python"
    }
  },
  "cells": [
    {
      "cell_type": "markdown",
      "metadata": {
        "id": "view-in-github",
        "colab_type": "text"
      },
      "source": [
        "<a href=\"https://colab.research.google.com/github/basher321/MachineLearning/blob/main/ShallowNN.ipynb\" target=\"_parent\"><img src=\"https://colab.research.google.com/assets/colab-badge.svg\" alt=\"Open In Colab\"/></a>"
      ]
    },
    {
      "cell_type": "code",
      "source": [
        "import tensorflow as tf"
      ],
      "metadata": {
        "id": "F5naPUmTKmUO"
      },
      "execution_count": 1,
      "outputs": []
    },
    {
      "cell_type": "code",
      "execution_count": null,
      "metadata": {
        "id": "_UpuVgyyYiOd"
      },
      "outputs": [],
      "source": [
        "class SNN:\n",
        "  \"\"\" This is a shallow network\"\"\"\n",
        "  def __init__(self, input_dim: int, hidden: int, output_dim: int, alpha : float):\n",
        "    self.params = initialize_param(input_dim,hidden,output_dim)\n",
        "    self. state= dict()\n",
        "    self.grades = dict()\n",
        "    self.cost=None\n",
        "    self.alpha=alpha\n",
        "\n",
        "def initialize_param(input_dim: int, hidden: int, output_dim: int):\n",
        "  w1= tf.random.normal([hidden, input_dim], dtype=tf.float64)\n",
        "  b1= tf.zeros([hidden,1], dtype= tf.float64)\n",
        "  w2= tf.random.normal([output_dim,hidden], dtype=tf.float64)\n",
        "  b2= tf.zeros([output_dim,1], dtype=tf.float64)\n",
        "  return {\n",
        "      'w1':w1, 'b1':b1, 'w2':w2,'b2':b2\n",
        "  }"
      ]
    },
    {
      "cell_type": "code",
      "source": [],
      "metadata": {
        "id": "ZYnqjjnoLN1r"
      },
      "execution_count": null,
      "outputs": []
    }
  ]
}