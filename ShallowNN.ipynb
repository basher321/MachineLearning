{
  "nbformat": 4,
  "nbformat_minor": 0,
  "metadata": {
    "colab": {
      "provenance": [],
      "authorship_tag": "ABX9TyO3TWelNRLztDvNaPPxSinB",
      "include_colab_link": true
    },
    "kernelspec": {
      "name": "python3",
      "display_name": "Python 3"
    },
    "language_info": {
      "name": "python"
    }
  },
  "cells": [
    {
      "cell_type": "markdown",
      "metadata": {
        "id": "view-in-github",
        "colab_type": "text"
      },
      "source": [
        "<a href=\"https://colab.research.google.com/github/basher321/MachineLearning/blob/main/ShallowNN.ipynb\" target=\"_parent\"><img src=\"https://colab.research.google.com/assets/colab-badge.svg\" alt=\"Open In Colab\"/></a>"
      ]
    },
    {
      "cell_type": "code",
      "source": [
        "import tensorflow as tf"
      ],
      "metadata": {
        "id": "F5naPUmTKmUO"
      },
      "execution_count": null,
      "outputs": []
    },
    {
      "cell_type": "code",
      "execution_count": null,
      "metadata": {
        "id": "_UpuVgyyYiOd"
      },
      "outputs": [],
      "source": [
        "\n",
        "class SNN:\n",
        "  \"\"\" This is a shallow network\"\"\"\n",
        "  def __init__(self, input_dim: int, hidden: int, output_dim: int, alpha : float):\n",
        "    self.params = initialize_param(input_dim,hidden,output_dim)\n",
        "    self. state= dict()\n",
        "    self.grades = dict()\n",
        "    self.cost=None\n",
        "    self.alpha=alpha\n",
        "\n",
        "def initialize_param(input_dim: int, hidden: int, output_dim: int):\n",
        "  w1= tf.random.normal([hidden, input_dim], dtype=tf.float64)\n",
        "  b1= tf.zeros([hidden,1], dtype= tf.float64)\n",
        "  w2= tf.random.normal([output_dim,hidden], dtype=tf.float64)\n",
        "  b2= tf.zeros([output_dim,1], dtype=tf.float64)\n",
        "  return {\n",
        "      'w1':w1, 'b1':b1, 'w2':w2,'b2':b2\n",
        "  }\n",
        "\n",
        "  def forward_prop(self, x: tf.Tensor):\n",
        "    w1,b1,w2,b2 = self.params.values()\n",
        "    z1 = tf.tensordot(w1,x, axes=1) + b1\n",
        "    a1= tf.nn.tanh(z1)\n",
        "    z2= tf.tensordot(w2,z1, axes=1)+ b2\n",
        "    a2= tf.nn.sigmoid(z2)\n",
        "    state ={\n",
        "        'z1':z1, 'a1':a1, 'z2':z2,'a2':a2\n",
        "    }\n",
        "    return a2,state\n",
        "\n",
        "  def compute_cost( self, y: tf.Tensor, yhat: tf.Tensor):\n",
        "    m= yhat.shape[1]\n",
        "    loss= tf.reduce_sum((y* tf.math.log(yhat))+((1-y)* tf.math.log(1-yhat)))\n",
        "    cost = (-1/m) * loss\n",
        "    return cost\n",
        " \n",
        "  def backward_prop(self, param: dict, state: dict, y: tf.Tensor):\n",
        "    w1,b1,w2,b2 = param.values()\n",
        "    z1,a1,z2,a2= state.values()\n",
        "    m=y.shape[1]\n",
        "    dz2= a2 - y\n",
        "    dw2= (1/m) * (tf.tensordot(dz2, tf.transpose(a2), axes=1))\n",
        "    db2= (1/m) * tf.reduce_sum(dz2, axis=1, keepdims=1)\n",
        "    dz1 = (1/m)* (tf.tensordot(tf.transpose(w2), dz2,axes=1)) *(1-tf.pow(a1,2))\n",
        "    dw1= (1/m)* (tf.tensordot(dz1, tf.transpose(x), axes=1))\n",
        "    db1 = (1/m) * tf.reduce_sum(dz1, axis=1, keepdims=1)\n",
        "    grades = {\n",
        "        'dw1': dw1, 'db1': db1, 'dw2': dw2, 'db2': db2\n",
        "    }\n",
        "    return grades\n",
        " def \n",
        "\n",
        "    \n"
      ]
    },
    {
      "cell_type": "code",
      "source": [],
      "metadata": {
        "id": "ZYnqjjnoLN1r"
      },
      "execution_count": null,
      "outputs": []
    }
  ]
}