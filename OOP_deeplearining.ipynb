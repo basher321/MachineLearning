{
  "nbformat": 4,
  "nbformat_minor": 0,
  "metadata": {
    "colab": {
      "provenance": [],
      "authorship_tag": "ABX9TyNz8Vb0FeHhB+Gusj0Ci6kY",
      "include_colab_link": true
    },
    "kernelspec": {
      "name": "python3",
      "display_name": "Python 3"
    },
    "language_info": {
      "name": "python"
    }
  },
  "cells": [
    {
      "cell_type": "markdown",
      "metadata": {
        "id": "view-in-github",
        "colab_type": "text"
      },
      "source": [
        "<a href=\"https://colab.research.google.com/github/basher321/MachineLearning/blob/main/OOP_deeplearining.ipynb\" target=\"_parent\"><img src=\"https://colab.research.google.com/assets/colab-badge.svg\" alt=\"Open In Colab\"/></a>"
      ]
    },
    {
      "cell_type": "code",
      "execution_count": 1,
      "metadata": {
        "id": "rZL673II1c3g"
      },
      "outputs": [],
      "source": [
        "import tensorflow as tf\n",
        "import numpy as np"
      ]
    },
    {
      "cell_type": "code",
      "source": [
        "class NN :\n",
        "  \"\"\"\n",
        "  pass\n",
        "  \"\"\"\n",
        "  def __init__(input_dim: int):\n",
        "    self.weight, self.bias= initializer(input_dim=input_dim)\n",
        "\n",
        "  def initializer(input_dim: int) ->tuple:\n",
        "     weight = tf.zeros([input_dim,1], tf.float64)\n",
        "     bias= 0.0\n",
        "     return weight, bias\n",
        "\n",
        "  def forward(self, X : tf.Tensor, Y: tf.Tensor ):\n",
        "    return tf.tensordot( tf.transpose(self.weight), X, axes=1)\n",
        "\n"
      ],
      "metadata": {
        "id": "7cq1RXSW2KbJ"
      },
      "execution_count": null,
      "outputs": []
    }
  ]
}