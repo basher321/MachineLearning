{
  "nbformat": 4,
  "nbformat_minor": 0,
  "metadata": {
    "colab": {
      "provenance": [],
      "authorship_tag": "ABX9TyMpxeczJUI7FjKGJ+ySI/0+",
      "include_colab_link": true
    },
    "kernelspec": {
      "name": "python3",
      "display_name": "Python 3"
    },
    "language_info": {
      "name": "python"
    }
  },
  "cells": [
    {
      "cell_type": "markdown",
      "metadata": {
        "id": "view-in-github",
        "colab_type": "text"
      },
      "source": [
        "<a href=\"https://colab.research.google.com/github/basher321/MachineLearning/blob/main/OOP_deeplearining.ipynb\" target=\"_parent\"><img src=\"https://colab.research.google.com/assets/colab-badge.svg\" alt=\"Open In Colab\"/></a>"
      ]
    },
    {
      "cell_type": "code",
      "execution_count": 1,
      "metadata": {
        "id": "rZL673II1c3g"
      },
      "outputs": [],
      "source": [
        "import tensorflow as tf\n",
        "import numpy as np"
      ]
    },
    {
      "cell_type": "code",
      "source": [
        "from tensorflow.python.ops.init_ops_v2 import Initializer\n",
        "class NN:\n",
        "  \n",
        "  \n",
        "  def __init__(self, input_dim: int):\n",
        "      self.weight, self.base = Initializer(input_dim)\n",
        "      self.cost=0.0\n",
        "      self.alpha = 0.001\n",
        "\n",
        "  def initializer(input_dim: int) ->tuple:\n",
        "       base = 0.0\n",
        "       weight = tf.zeros([input_dim,1],dtype= tf.float64) \n",
        "       return weight, base\n",
        "\n",
        "  def forward(self, x: tf.Tensor):\n",
        "    return tf.tensordot(tf.transpose(self.weight),x, axes=1)\n",
        "\n",
        "  def sigmoid(self, z: tf.Tensor):\n",
        "      return 1/(1+ (tf.exp(-z)))\n",
        "\n",
        "  def  compute_cost(self, y: tf.Tensor, yhat: tf.Tensor):\n",
        "     return ((1/(yhat.shape[1]))*  tf.reduce_sum((y* tf.math.log(yhat)) + ((1-y) * tf.math.log(1-yhat))))\n",
        "\n",
        "  def forward_prop(self, x: tf.Tensor, y: tf.Tensor):\n",
        "    z = self.forward(x)\n",
        "    yhat= self.sigmoid(z)\n",
        "    self.cost= self.compute_cost(y, yhat)\n",
        "    return yhat, tf.squeeze(self.cost)\n",
        "\n",
        "  def back_propagation(self, x: tf.Tensor, y: tf.Tensor, yhat = tf.Tensor):\n",
        "    m= yhat.shape[1]\n",
        "    dw= (1/m) * tf.tensordot(x, tf.transpose(yhat - y), axes=1)\n",
        "    db = (1/m) * tf.reduce_sum(yhat-yhat)\n",
        "    return {'dw': dw, 'db': db}\n",
        "\n",
        "  def weight_update(self, grade: dict):\n",
        "    self.weight = self.weight - (self.alpha * grade['dw'])\n",
        "    self.base = self.base -(self.alpha * grade['db'])\n",
        "\n",
        "\n",
        "    \n",
        "     \n",
        "\n",
        "\n",
        "   \n",
        "\n",
        "  \n"
      ],
      "metadata": {
        "id": "7cq1RXSW2KbJ"
      },
      "execution_count": null,
      "outputs": []
    },
    {
      "cell_type": "code",
      "source": [],
      "metadata": {
        "id": "BEYmfsmMdnq0"
      },
      "execution_count": null,
      "outputs": []
    }
  ]
}