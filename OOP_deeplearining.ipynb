{
  "nbformat": 4,
  "nbformat_minor": 0,
  "metadata": {
    "colab": {
      "provenance": [],
      "authorship_tag": "ABX9TyNGTmxNOJC7ENAK1R5he7Cg",
      "include_colab_link": true
    },
    "kernelspec": {
      "name": "python3",
      "display_name": "Python 3"
    },
    "language_info": {
      "name": "python"
    }
  },
  "cells": [
    {
      "cell_type": "markdown",
      "metadata": {
        "id": "view-in-github",
        "colab_type": "text"
      },
      "source": [
        "<a href=\"https://colab.research.google.com/github/basher321/MachineLearning/blob/main/OOP_deeplearining.ipynb\" target=\"_parent\"><img src=\"https://colab.research.google.com/assets/colab-badge.svg\" alt=\"Open In Colab\"/></a>"
      ]
    },
    {
      "cell_type": "code",
      "execution_count": 1,
      "metadata": {
        "id": "rZL673II1c3g"
      },
      "outputs": [],
      "source": [
        "import tensorflow as tf\n",
        "import numpy as np"
      ]
    },
    {
      "cell_type": "code",
      "source": [
        "class NN:\n",
        "  \n",
        "  \n",
        "  def __init__(input_dim: int):\n",
        "      self.weight, self.base = initialize(input_dim: input_dim)\n",
        "\n",
        "  def initialize(input_dim: int):\n",
        "       base = 0.0\n",
        "       weight = tf.zeros([input_dim,1],dtype= tf.float64) \n",
        "       return weight, base\n",
        "\n",
        "  \n"
      ],
      "metadata": {
        "id": "7cq1RXSW2KbJ"
      },
      "execution_count": null,
      "outputs": []
    }
  ]
}